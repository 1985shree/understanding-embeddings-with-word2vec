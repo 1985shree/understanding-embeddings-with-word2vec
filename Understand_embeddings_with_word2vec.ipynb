{
  "cells": [
    {
      "cell_type": "markdown",
      "metadata": {
        "id": "view-in-github",
        "colab_type": "text"
      },
      "source": [
        "<a href=\"https://colab.research.google.com/github/1985shree/understanding-embeddings-with-word2vec/blob/main/Understand_embeddings_with_word2vec.ipynb\" target=\"_parent\"><img src=\"https://colab.research.google.com/assets/colab-badge.svg\" alt=\"Open In Colab\"/></a>"
      ]
    },
    {
      "cell_type": "markdown",
      "metadata": {
        "id": "oXAGYfboHEwE"
      },
      "source": [
        "# Understand embeddings with Word2Vec\n",
        "\n",
        "### Exercise objectives:\n",
        "- Convert words to vector representations thanks to embeddings\n",
        "- Discover the powerful Word2Vec algorithm\n",
        "\n",
        "<hr>\n",
        "<hr>\n",
        "\n",
        "_Embeddings_ are representation of words thanks to vectors. These embeddings can be learnt within a Neural Network. But it can take time to converge. Another option is to learn them as a first step. Then, use them directly to feed the word representation into an RNN. \n",
        "\n",
        "\n",
        "\n",
        "# The data\n",
        "\n",
        "Keras provides many datasets, among which the ÌMDB dataset: it corresponds to sentences that are movie reviews. Each of them is related to a score given by the review writer.\n",
        "\n",
        "❓ **Question** ❓ Let's first load the data. You don't have to understand what is going on in the function, it does not matter here.\n",
        "\n",
        "⚠️ **Warning** ⚠️ The `load_data` function has a `percentage_of_sentences` argument. Depending on your computer, there are chances that a too large number of sentences will make your compute slow down, or even freeze - your RAM can even overflow. For that reason, **you should start with 10% of the sentences** and see if your computer handles it. Otherwise, rerun with a lower number. \n",
        "\n",
        "⚠️ **DISCLAIMER** ⚠️ **No need to play _who has the biggest_ (RAM) !** The idea is to get to run your models quickly to prototype. Even in real life, it is recommended that you start with a subset of your data to loop and debug quickly. So increase the number only if you are into getting the best accuracy. "
      ]
    },
    {
      "cell_type": "code",
      "source": [
        "!pip install --quiet nbresult\n",
        "from google.colab import drive\n",
        "drive.mount('/content/drive')\n",
        "import os\n",
        "os.chdir('/content/drive/MyDrive/data-challenges-master/06-Deep-Learning/05-Natural-Language-Processing/02-Embeddings-with-Word2vec/')"
      ],
      "metadata": {
        "colab": {
          "base_uri": "https://localhost:8080/"
        },
        "id": "E2SHYIEfHGCy",
        "outputId": "8c1717cf-cdd9-4263-85d1-4737d61afced"
      },
      "execution_count": null,
      "outputs": [
        {
          "output_type": "stream",
          "name": "stdout",
          "text": [
            "Drive already mounted at /content/drive; to attempt to forcibly remount, call drive.mount(\"/content/drive\", force_remount=True).\n"
          ]
        }
      ]
    },
    {
      "cell_type": "code",
      "execution_count": null,
      "metadata": {
        "id": "pLyApQAxHEwK"
      },
      "outputs": [],
      "source": [
        "###########################################\n",
        "### Just run this cell to load the data ###\n",
        "###########################################\n",
        "\n",
        "import tensorflow_datasets as tfds\n",
        "from tensorflow.keras.preprocessing.text import text_to_word_sequence\n",
        "\n",
        "def load_data(percentage_of_sentences=None):\n",
        "    train_data, test_data = tfds.load(name=\"imdb_reviews\", split=[\"train\", \"test\"], batch_size=-1, as_supervised=True)\n",
        "\n",
        "    train_sentences, y_train = tfds.as_numpy(train_data)\n",
        "    test_sentences, y_test = tfds.as_numpy(test_data)\n",
        "    \n",
        "    # Take only a given percentage of the entire data\n",
        "    if percentage_of_sentences is not None:\n",
        "        assert(percentage_of_sentences> 0 and percentage_of_sentences<=100)\n",
        "        \n",
        "        len_train = int(percentage_of_sentences/100*len(train_sentences))\n",
        "        train_sentences, y_train = train_sentences[:len_train], y_train[:len_train]\n",
        "  \n",
        "        len_test = int(percentage_of_sentences/100*len(test_sentences))\n",
        "        test_sentences, y_test = test_sentences[:len_test], y_test[:len_test]\n",
        "    \n",
        "    X_train = [text_to_word_sequence(_.decode(\"utf-8\")) for _ in train_sentences]\n",
        "    X_test = [text_to_word_sequence(_.decode(\"utf-8\")) for _ in test_sentences]\n",
        "    \n",
        "    return X_train, y_train, X_test, y_test\n",
        "\n",
        "X_train, y_train, X_test, y_test = load_data(percentage_of_sentences=10)"
      ]
    },
    {
      "cell_type": "markdown",
      "metadata": {
        "id": "mf3hqghkHEwM"
      },
      "source": [
        "In the previous exercise, we jointly learnt a representation for the words, and feed this representation to a RNN, as shown here : \n",
        "\n",
        "<img src=\"layers_embedding.png\" width=\"400px\" />\n",
        "\n",
        "However, this increases the number of parameters to learn, which can slow the convergence, and make it harder!\n",
        "\n",
        "For that reason, we will separate the steps of learning the word representation and feeding it to a RNN. As shown here : \n",
        "\n",
        "<img src=\"word2vec_representation.png\" width=\"400px\" />\n",
        "\n",
        "We will learn the embedding with the word2vec.\n",
        "\n",
        "The drawback is indeed that the learnt embedding is not _specifically_ designed for our task. However, learning it independently of the task at hand (sentiment analysis) has some advantages : \n",
        "- it is very fast to do in general (with word2vec)\n",
        "- the representation learnt by word2vec is still meaningful \n",
        "- the convergence of the RNN alone will be easier and faster\n",
        "\n",
        "So let's learn an embedding with word2vec and see how meaningful it is!\n",
        "\n",
        "\n",
        "# Embedding with Word2Vec\n",
        "\n",
        "Let's use Word2Vec to embed the words of our sentences. Word2Vec will be able to convert each word to a fixed-size vectorial representation.\n",
        "\n",
        "For instance, we will have:\n",
        "- 'dog' --> [0.1, -0.3, 0.8]\n",
        "- 'cat' --> [-1.1, 2.3, 0.7]\n",
        "- 'apple' --> [3.1, 0.9, -4.7]\n",
        "\n",
        "Here, your embedding space is of size 3.\n",
        "\n",
        "What you expect is to have representation such as words with close meanings are close in this embedding space. As on this example:\n",
        "\n",
        "![Embedding](word_embedding.png)\n",
        "\n",
        "❓ **Question** ❓ Let's run Word2Vec! The following code imports word2vec from [GENSIM](https://radimrehurek.com/gensim/), a great python package that makes the use of the word2vec algorithm easy, fast and accurate - which is not an easy task. The second line learns the embedding representation of the words thanks to the sentences in `X_train`."
      ]
    },
    {
      "cell_type": "code",
      "source": [
        "pip install gensim python-Levenshtein"
      ],
      "metadata": {
        "colab": {
          "base_uri": "https://localhost:8080/"
        },
        "id": "HwdYNoyOP9Tz",
        "outputId": "92c70cf9-b819-438d-8770-8b1730239b40"
      },
      "execution_count": null,
      "outputs": [
        {
          "output_type": "stream",
          "name": "stdout",
          "text": [
            "Requirement already satisfied: gensim in /usr/local/lib/python3.7/dist-packages (3.6.0)\n",
            "Requirement already satisfied: python-Levenshtein in /usr/local/lib/python3.7/dist-packages (0.12.2)\n",
            "Requirement already satisfied: numpy>=1.11.3 in /usr/local/lib/python3.7/dist-packages (from gensim) (1.21.6)\n",
            "Requirement already satisfied: scipy>=0.18.1 in /usr/local/lib/python3.7/dist-packages (from gensim) (1.4.1)\n",
            "Requirement already satisfied: six>=1.5.0 in /usr/local/lib/python3.7/dist-packages (from gensim) (1.15.0)\n",
            "Requirement already satisfied: smart-open>=1.2.1 in /usr/local/lib/python3.7/dist-packages (from gensim) (5.2.1)\n",
            "Requirement already satisfied: setuptools in /usr/local/lib/python3.7/dist-packages (from python-Levenshtein) (57.4.0)\n"
          ]
        }
      ]
    },
    {
      "cell_type": "code",
      "execution_count": null,
      "metadata": {
        "id": "ttZ2qXL2HEwN"
      },
      "outputs": [],
      "source": [
        "from gensim.models import Word2Vec\n",
        "\n",
        "word2vec = Word2Vec(sentences=X_train)"
      ]
    },
    {
      "cell_type": "markdown",
      "metadata": {
        "id": "TssRmfa7HEwO"
      },
      "source": [
        "Let's look at the embedded representation of some words.\n",
        "\n",
        "You can use `word2vec.wv` as a dictionary.\n",
        "For instance, `word2vec.wv['dog']` will return a representation of `dog` in the embedding space.\n",
        "\n",
        "❓ **Question** ❓ Try different words - especially, try non-existing words to see that they don't have any representation (which is perfectly normal as their representation were not learn). "
      ]
    },
    {
      "cell_type": "code",
      "execution_count": null,
      "metadata": {
        "tags": [
          "challengify"
        ],
        "colab": {
          "base_uri": "https://localhost:8080/"
        },
        "id": "YfSM_-ygHEwO",
        "outputId": "ac2e7281-273a-4945-8694-e5d5456a7fc2"
      },
      "outputs": [
        {
          "output_type": "execute_result",
          "data": {
            "text/plain": [
              "[('python', 0.990651547908783),\n",
              " ('tim', 0.989586353302002),\n",
              " ('pre', 0.989538848400116),\n",
              " ('texas', 0.9889823794364929),\n",
              " ('blake', 0.9888622760772705),\n",
              " ('vincent', 0.9886792898178101),\n",
              " ('stereotypical', 0.9884096384048462),\n",
              " ('elegant', 0.9883958697319031),\n",
              " ('blade', 0.9882690906524658),\n",
              " ('combining', 0.9879271984100342)]"
            ]
          },
          "metadata": {},
          "execution_count": 36
        }
      ],
      "source": [
        "word2vec.wv.most_similar('glass', topn=10)"
      ]
    },
    {
      "cell_type": "markdown",
      "metadata": {
        "id": "RsipBGkwHEwP"
      },
      "source": [
        "❓ **Question** ❓ What is the size of each word representation, and therefore, what is the size of the embedding space?"
      ]
    },
    {
      "cell_type": "code",
      "execution_count": null,
      "metadata": {
        "tags": [
          "challengify"
        ],
        "colab": {
          "base_uri": "https://localhost:8080/"
        },
        "id": "MOQV99ypHEwQ",
        "outputId": "02c3416d-0635-4c40-bfde-cbdc4c224d88"
      },
      "outputs": [
        {
          "output_type": "execute_result",
          "data": {
            "text/plain": [
              "100"
            ]
          },
          "metadata": {},
          "execution_count": 37
        }
      ],
      "source": [
        "word2vec.vector_size"
      ]
    },
    {
      "cell_type": "markdown",
      "metadata": {
        "id": "P5mglpZXHEwQ"
      },
      "source": [
        "How to know if this embedding make any sense? To do that, we will check that words with a close meaning have close representations. \n",
        "\n",
        "Let's use the `word2vec.most_similar(...)` method that, given an input word, display the \"closest\" words in the embedding space. If the embedding is well done, then words that have close meanings will have close representation in the embedding space.\n",
        "\n",
        "❓ **Question** ❓ Test the `most_similar` method on different words. \n",
        "\n",
        "❗ **Remark** ❗ Indeed, the quality of the closeness will depend on the quality of your embedding, and thus, depend on the number of sentences that you have loaded and from which you create your embedding."
      ]
    },
    {
      "cell_type": "code",
      "execution_count": null,
      "metadata": {
        "tags": [
          "challengify"
        ],
        "colab": {
          "base_uri": "https://localhost:8080/"
        },
        "id": "XW3XPJOiHEwR",
        "outputId": "2fad272f-0486-42d7-e21e-a5b6357a8b56"
      },
      "outputs": [
        {
          "output_type": "execute_result",
          "data": {
            "text/plain": [
              "[('python', 0.990651547908783),\n",
              " ('tim', 0.989586353302002),\n",
              " ('pre', 0.989538848400116),\n",
              " ('texas', 0.9889823794364929),\n",
              " ('blake', 0.9888622760772705),\n",
              " ('vincent', 0.9886792898178101),\n",
              " ('stereotypical', 0.9884096384048462),\n",
              " ('elegant', 0.9883958697319031),\n",
              " ('blade', 0.9882690906524658),\n",
              " ('combining', 0.9879271984100342)]"
            ]
          },
          "metadata": {},
          "execution_count": 38
        }
      ],
      "source": [
        "word2vec.wv.most_similar('glass', topn=10)"
      ]
    },
    {
      "cell_type": "markdown",
      "metadata": {
        "id": "FUvtHbNGHEwS"
      },
      "source": [
        "Similarly to `most_similar` used on words directly, we can use `similar_by_vector` on vectors to do the same thing :"
      ]
    },
    {
      "cell_type": "code",
      "execution_count": null,
      "metadata": {
        "tags": [
          "challengify"
        ],
        "colab": {
          "base_uri": "https://localhost:8080/"
        },
        "id": "2gy0m0TrHEwS",
        "outputId": "6518cb27-68b9-4ebf-8166-fb7c407a4671"
      },
      "outputs": [
        {
          "output_type": "execute_result",
          "data": {
            "text/plain": [
              "[('python', 0.990651547908783),\n",
              " ('tim', 0.989586353302002),\n",
              " ('pre', 0.989538848400116),\n",
              " ('texas', 0.9889823794364929),\n",
              " ('blake', 0.9888622760772705),\n",
              " ('vincent', 0.9886792898178101),\n",
              " ('stereotypical', 0.9884096384048462),\n",
              " ('elegant', 0.9883958697319031),\n",
              " ('blade', 0.9882690906524658),\n",
              " ('combining', 0.9879271984100342)]"
            ]
          },
          "metadata": {},
          "execution_count": 39
        }
      ],
      "source": [
        "word2vec.wv.similar_by_vector('glass', topn=10)"
      ]
    },
    {
      "cell_type": "markdown",
      "metadata": {
        "id": "33YDNVLGHEwT"
      },
      "source": [
        "# Arithmetic on words\n",
        "\n",
        "Now, let's do mathematical operations on words - meaning on their vector representations!\n",
        "\n",
        "As any word is represented as a vector, you can do basic arithmetic as:\n",
        "\n",
        "$$W2V(good) - W2V(bad)$$\n",
        "\n",
        "❓ **Question** ❓ Do this mathematical operation and print the result"
      ]
    },
    {
      "cell_type": "code",
      "execution_count": null,
      "metadata": {
        "tags": [
          "challengify"
        ],
        "colab": {
          "base_uri": "https://localhost:8080/"
        },
        "id": "O-g48IH7HEwT",
        "outputId": "40c871a8-03c2-4f4b-e21a-2687dc029053"
      },
      "outputs": [
        {
          "output_type": "execute_result",
          "data": {
            "text/plain": [
              "array([ 0.04518814,  0.21798527, -0.10849094, -0.15209422, -0.18512094,\n",
              "       -0.27149183,  0.00163224,  0.4410518 , -0.23591161,  0.01391269,\n",
              "       -0.00809795,  0.05873898, -0.39261344, -0.33025366, -0.4270484 ,\n",
              "       -0.26625407, -0.31040418,  0.27404058, -0.48514533,  0.25722885,\n",
              "       -0.4649549 ,  0.43236205, -0.332506  , -0.01274824,  0.053725  ,\n",
              "        0.1098669 , -0.00632368, -0.36800712, -0.05635104,  0.14885473,\n",
              "       -0.16096309, -0.55898976, -0.06341916,  0.0190593 , -0.41015193,\n",
              "       -0.02794771,  0.12055682, -0.37423015,  0.29607034,  0.41876784,\n",
              "       -0.7030258 ,  0.2343294 , -0.31386822,  0.5940865 ,  0.10477261,\n",
              "        0.15247157, -0.23764764, -0.31835485, -0.21603478, -0.14210874,\n",
              "        0.15350693, -0.11302818, -0.0987795 , -0.04970437,  0.20921552,\n",
              "       -0.5819511 , -0.00840309, -0.36096555,  0.2378102 , -0.34124297,\n",
              "       -0.47562972,  0.21016866, -0.38906604,  0.05913702,  0.11685246,\n",
              "        0.17954521, -0.38297546,  0.14285791,  0.5176842 ,  0.39900637,\n",
              "       -0.02385101, -0.03571588,  0.08791053,  0.03451813,  0.09863514,\n",
              "       -0.57641137,  0.04009844,  0.10284376, -0.32923543,  0.03945689,\n",
              "        0.27350768, -0.20547432,  0.2257052 , -0.01075406, -0.92128646,\n",
              "        0.20665914, -0.14887162, -0.23711878,  0.15062818, -0.06530648,\n",
              "       -0.05719611,  0.5175472 , -0.5206071 ,  0.25822413,  0.3023194 ,\n",
              "        0.20962948,  0.19580531, -0.18510363, -0.14680934,  0.25828007],\n",
              "      dtype=float32)"
            ]
          },
          "metadata": {},
          "execution_count": 40
        }
      ],
      "source": [
        "word2vec.wv['good'] -  word2vec.wv['bad']"
      ]
    },
    {
      "cell_type": "markdown",
      "metadata": {
        "id": "f0F9eo6UHEwU"
      },
      "source": [
        "Now, image for a second that, somehow, the following equality holds true - just for a second\n",
        "\n",
        "$$W2V(good) - W2V(bad) = W2V(nice) - W2V(stupid)$$\n",
        "\n",
        "which is equivalent to \n",
        "\n",
        "$$W2V(good) - W2V(bad) + W2V(stupid) = W2V(nice)$$\n",
        "\n",
        "❓ **Question** ❓ Let's, just for fun (as it would be foolish of us to think that this equality holds true ...), do the operation $W2V(good) - W2V(bad) + W2V(stupid)$ and store it in a `res` variable (which will be a vector of size 100 that you can print)."
      ]
    },
    {
      "cell_type": "code",
      "execution_count": null,
      "metadata": {
        "tags": [
          "challengify"
        ],
        "colab": {
          "base_uri": "https://localhost:8080/"
        },
        "id": "wv6I04m2HEwU",
        "outputId": "c0c19174-07fb-4376-c275-da67ec607867"
      },
      "outputs": [
        {
          "output_type": "stream",
          "name": "stderr",
          "text": [
            "/usr/local/lib/python3.7/dist-packages/ipykernel_launcher.py:1: DeprecationWarning: Call to deprecated `__getitem__` (Method will be removed in 4.0.0, use self.wv.__getitem__() instead).\n",
            "  \"\"\"Entry point for launching an IPython kernel.\n"
          ]
        }
      ],
      "source": [
        "res = word2vec.wv['good'] -  word2vec.wv['bad'] + word2vec['stupid']"
      ]
    },
    {
      "cell_type": "markdown",
      "metadata": {
        "id": "pMqrxEgIHEwV"
      },
      "source": [
        "We earlier said that, for any vector, it is possible to see the closest vectors in the embedding space.\n",
        "\n",
        "❓ **Question** ❓ Look at the closest vector (thanks to the `word2vec.wv.similar_by_vector` function) of `res`"
      ]
    },
    {
      "cell_type": "code",
      "execution_count": null,
      "metadata": {
        "tags": [
          "challengify"
        ],
        "colab": {
          "base_uri": "https://localhost:8080/"
        },
        "id": "-HxoO_YOHEwV",
        "outputId": "3cba2aa4-36b0-418c-82f7-e2893ae2e273"
      },
      "outputs": [
        {
          "output_type": "execute_result",
          "data": {
            "text/plain": [
              "[('nice', 0.7795281410217285),\n",
              " ('given', 0.7698271870613098),\n",
              " ('destined', 0.7664583921432495),\n",
              " ('decent', 0.7643337249755859),\n",
              " ('gunslinger', 0.7638342976570129),\n",
              " ('such', 0.7596216201782227),\n",
              " ('goofy', 0.7548052072525024),\n",
              " ('potential', 0.753576397895813),\n",
              " ('smart', 0.7521515488624573),\n",
              " ('generous', 0.7513566613197327)]"
            ]
          },
          "metadata": {},
          "execution_count": 42
        }
      ],
      "source": [
        "word2vec.wv.similar_by_vector(res)"
      ]
    },
    {
      "cell_type": "markdown",
      "source": [],
      "metadata": {
        "id": "kCHKY5ZzSGJi"
      }
    },
    {
      "cell_type": "code",
      "source": [
        "word2vec.wv['boy'] -  word2vec.wv['girl'] "
      ],
      "metadata": {
        "colab": {
          "base_uri": "https://localhost:8080/"
        },
        "id": "9vExZvEWSHGZ",
        "outputId": "c1176ec4-5710-4dd8-f7b5-5221beba833f"
      },
      "execution_count": null,
      "outputs": [
        {
          "output_type": "execute_result",
          "data": {
            "text/plain": [
              "array([ 1.45892799e-03, -1.22427166e-01, -4.79891896e-04, -1.75064266e-01,\n",
              "        1.11599177e-01,  5.15314043e-02, -1.76547706e-01,  1.73693076e-01,\n",
              "        1.20601654e-02, -9.45737958e-02,  2.99837291e-02, -2.94954255e-02,\n",
              "       -1.16427243e-02, -2.93644071e-02,  2.36046970e-01,  3.26335430e-04,\n",
              "       -6.34741783e-02, -1.41857266e-02,  3.37720215e-02,  4.02529240e-02,\n",
              "       -2.67912745e-02, -7.81332627e-02,  6.36820868e-02,  2.41965115e-01,\n",
              "        9.57147479e-02,  1.47209689e-02, -1.44766018e-01,  1.07569695e-02,\n",
              "       -6.36568367e-02,  1.77488267e-01,  2.79973149e-01,  2.26736605e-01,\n",
              "       -2.69324630e-02,  1.59850359e-01,  2.34070942e-02, -8.95017385e-03,\n",
              "       -9.60781723e-02, -8.70623589e-02,  1.16312623e-01, -2.31613845e-01,\n",
              "       -9.06762183e-02,  9.19840485e-02, -6.68512881e-02,  2.57165730e-02,\n",
              "       -2.61168569e-01,  1.17108688e-01,  1.57850385e-02, -1.30072236e-03,\n",
              "        2.16973305e-01,  1.21969432e-02, -1.33142516e-01,  9.84175205e-02,\n",
              "       -1.01030469e-02,  5.74536473e-02, -1.04210883e-01,  1.00146800e-01,\n",
              "        1.28878057e-01, -1.00547820e-03,  1.19814873e-02, -2.31976300e-01,\n",
              "        3.24228555e-02, -7.40576684e-02,  1.74690977e-01, -7.38524050e-02,\n",
              "       -4.36044633e-02,  4.85494584e-02, -2.09863901e-01, -5.62449619e-02,\n",
              "        7.68801570e-03,  6.80326670e-02, -5.39751649e-02,  2.78306633e-01,\n",
              "       -5.38102761e-02,  5.43133169e-02, -7.08674192e-02,  1.00900829e-02,\n",
              "        1.54682413e-01,  1.74092755e-01,  2.33975828e-01, -1.84472695e-01,\n",
              "        2.38848984e-01,  1.60338894e-01, -1.39993846e-01,  8.00780058e-02,\n",
              "       -5.98789752e-03, -1.32664144e-02, -2.37474754e-01,  1.15207419e-01,\n",
              "       -9.95943695e-02, -1.07626393e-01,  3.83857459e-01,  2.40733147e-01,\n",
              "       -2.20284551e-01, -2.48335004e-02, -3.25714886e-01, -1.48048788e-01,\n",
              "       -1.49503648e-01,  1.90757990e-01, -2.55866498e-01, -1.02834091e-01],\n",
              "      dtype=float32)"
            ]
          },
          "metadata": {},
          "execution_count": 43
        }
      ]
    },
    {
      "cell_type": "code",
      "source": [
        "res2 = word2vec.wv['boy'] -  word2vec.wv['girl'] + word2vec['woman']"
      ],
      "metadata": {
        "colab": {
          "base_uri": "https://localhost:8080/"
        },
        "id": "BwRqVq6vS5Nc",
        "outputId": "08affa05-9396-47b5-a012-a9260e78912a"
      },
      "execution_count": null,
      "outputs": [
        {
          "output_type": "stream",
          "name": "stderr",
          "text": [
            "/usr/local/lib/python3.7/dist-packages/ipykernel_launcher.py:1: DeprecationWarning: Call to deprecated `__getitem__` (Method will be removed in 4.0.0, use self.wv.__getitem__() instead).\n",
            "  \"\"\"Entry point for launching an IPython kernel.\n"
          ]
        }
      ]
    },
    {
      "cell_type": "code",
      "source": [
        "word2vec.wv.similar_by_vector(res2)"
      ],
      "metadata": {
        "colab": {
          "base_uri": "https://localhost:8080/"
        },
        "id": "Wmi7aq-STJ0B",
        "outputId": "40745fc6-0e4a-4d11-b74a-2637b2c8ec1a"
      },
      "execution_count": null,
      "outputs": [
        {
          "output_type": "execute_result",
          "data": {
            "text/plain": [
              "[('boy', 0.9745819568634033),\n",
              " ('hiding', 0.9569803476333618),\n",
              " ('woman', 0.954512894153595),\n",
              " ('dumped', 0.952126145362854),\n",
              " ('penned', 0.9520639777183533),\n",
              " ('named', 0.9479455947875977),\n",
              " ('lady', 0.9450726509094238),\n",
              " ('victim', 0.9439608454704285),\n",
              " ('mother', 0.9435360431671143),\n",
              " ('old', 0.9430907964706421)]"
            ]
          },
          "metadata": {},
          "execution_count": 45
        }
      ]
    },
    {
      "cell_type": "markdown",
      "metadata": {
        "id": "h3LwQjgRHEwW"
      },
      "source": [
        "Incredible right! You can do arithmetic operations on words!\n",
        "\n",
        "❓ **Question** ❓ You can try on arithmetic such as \n",
        "\n",
        "$$W2V(Boy) - W2V(Girl) = W2V(Man) - W2V(Woman)$$\n",
        "\n",
        "or \n",
        "\n",
        "$$W2V(Queen) - W2V(King) = W2V(actress) - W2V(actor)$$\n",
        "\n",
        "❗ **Remark** ❗ You will probably see that the results are not perfect. But don't forget that you trained your model on a very small corpus."
      ]
    },
    {
      "cell_type": "code",
      "execution_count": null,
      "metadata": {
        "tags": [
          "challengify"
        ],
        "id": "6nKXDbwJHEwW"
      },
      "outputs": [],
      "source": [
        "# YOUR CODE HERE"
      ]
    },
    {
      "cell_type": "markdown",
      "metadata": {
        "id": "yTcuCY9GHEwX"
      },
      "source": [
        "You might wonder where does this magic comes from (at quite a low price, you just run a line of code on a very small corpus and it was trained within few minutes). The magic comes from the way Word2Vec is trained. The details are quite complex, but you can remember that Word2vec, in `word2vec = Word2Vec(sentences=X_train)` , actually trains a internal neural network (that you don't see).  \n",
        "\n",
        "In a nutshell, this internal NN predicts a word from the surroundings words in a sentences. So it chooses many splits in the different sentences, choose some words as inputs $X$  and a word as output $y$ which it tries to predict, in the embedding space.\n",
        "\n",
        "And as any neural network, Word2Vec has some hyperparameters. Let's check some. \n",
        "\n",
        "\n",
        "# Word2Vec hyperparameters\n",
        "\n",
        "\n",
        "❓ **Question** ❓ The first important hyperparameter is the `vector_size` argument. It corresponds to the size of the embedding space. Learn a new `word2vec_2` model, still trained on the `X_train`, but with a smaller or higher `vector_size`.\n",
        "\n",
        "Verify on some words that the corresponding embedding is of your selected size."
      ]
    },
    {
      "cell_type": "code",
      "execution_count": null,
      "metadata": {
        "tags": [
          "challengify"
        ],
        "colab": {
          "base_uri": "https://localhost:8080/"
        },
        "id": "f-GPOT5fHEwX",
        "outputId": "69b6ab95-b936-4061-cb67-8444a85e665a"
      },
      "outputs": [
        {
          "output_type": "stream",
          "name": "stderr",
          "text": [
            "WARNING:gensim.models.base_any2vec:consider setting layer size to a multiple of 4 for greater performance\n"
          ]
        }
      ],
      "source": [
        "\n",
        "word2vec_2 = Word2Vec(sentences=X_train, size = 90)"
      ]
    },
    {
      "cell_type": "markdown",
      "metadata": {
        "id": "yA5OlbhrHEwX"
      },
      "source": [
        "❓ **Question** ❓ Use the `word2vec.wv.key_to_index` attribute to display the size of the learnt vocabulary. On the other hand, compare it to the number of different words in `X_train`."
      ]
    },
    {
      "cell_type": "code",
      "execution_count": null,
      "metadata": {
        "tags": [
          "challengify"
        ],
        "colab": {
          "base_uri": "https://localhost:8080/"
        },
        "id": "mEEbaMfTHEwY",
        "outputId": "8f4146df-3123-46ee-cc74-b578282cdbd4"
      },
      "outputs": [
        {
          "output_type": "stream",
          "name": "stderr",
          "text": [
            "/usr/local/lib/python3.7/dist-packages/numpy/lib/arraysetops.py:270: VisibleDeprecationWarning: Creating an ndarray from ragged nested sequences (which is a list-or-tuple of lists-or-tuples-or ndarrays with different lengths or shapes) is deprecated. If you meant to do this, you must specify 'dtype=object' when creating the ndarray.\n",
            "  ar = np.asanyarray(ar)\n"
          ]
        },
        {
          "output_type": "execute_result",
          "data": {
            "text/plain": [
              "(2498,)"
            ]
          },
          "metadata": {},
          "execution_count": 47
        }
      ],
      "source": [
        "import numpy as np\n",
        "np.unique(X_train).shape"
      ]
    },
    {
      "cell_type": "markdown",
      "metadata": {
        "id": "51ymVSaEHEwY"
      },
      "source": [
        "There is an important difference between the number of words in the train sentences and in the Word2Vec vocabulary, even though it has been train on the train sentence set. The reasons comes from the second important hyperparameter of Word2Vec :  `min_count`. \n",
        "\n",
        "`min_count` is a integer that tells you how many occurences a given word should have to be learn in the embedding space. For instance, let's say that the word \"movie\" appears 1000 times in the corpus and \"simba\" only 2 times. If `min_count=3`, the word \"simba\" will be skipped during the training.\n",
        "\n",
        "The intention is to have only words that are sufficiently present in the corpus to have a robust embedded representation\n",
        "\n",
        "❓ **Question** ❓ Learn a new `word2vec_3` model with a `min_count` higher than 5 (which is the default value) and a `word2vec_4` with a `min_count` smaller than 5, and then, compare the size of the vocabulary for all the different word2vec that you have trained (you can choose any `vector_size` you want)."
      ]
    },
    {
      "cell_type": "code",
      "execution_count": null,
      "metadata": {
        "tags": [
          "challengify"
        ],
        "id": "gRlP4hSFHEwY"
      },
      "outputs": [],
      "source": [
        "word2vec_3 = Word2Vec(sentences = X_train, size =100,min_count = 7)"
      ]
    },
    {
      "cell_type": "markdown",
      "metadata": {
        "id": "reO5NjxRHEwY"
      },
      "source": [
        "Remember that we say that word2vec has an internal neural network that it optimizes based on some predictions? These predictions actually correspond to predicting a word based on surrounding words. The surroundings words are in a `window` which corresponds to the number of words taken into account. And you can train the word2vec with different `window` sizes.\n",
        "\n",
        "❓ **Question** ❓ Learn a new `word2vec_5` model with a `window` different than previously (default is 5)."
      ]
    },
    {
      "cell_type": "code",
      "execution_count": null,
      "metadata": {
        "tags": [
          "challengify"
        ],
        "id": "Q4PbG9N8HEwc"
      },
      "outputs": [],
      "source": [
        "word2vec_5 = Word2Vec(sentences = X_train, size = 100, min_count =7,window= 7)"
      ]
    },
    {
      "cell_type": "markdown",
      "metadata": {
        "id": "rxBf-ggqHEwc"
      },
      "source": [
        "The arguments you have seen (`vector_size`, `min_count` and `window`) are usually the one that you should start changing to get a better performance for your model.\n",
        "\n",
        "But you can also look at other arguments in the [documentation](https://radimrehurek.com/gensim/models/word2vec.html#gensim.models.word2vec.Text8Corpus)\n",
        "\n",
        "\n",
        "\n",
        "# Convert our train and test set to RNN ready data\n",
        "\n",
        "Remember that word2vec is the first step to the overall process of feeding such a representation into a RNN, as shown here :\n",
        "\n",
        "<img src=\"word2vec_representation.png\" width=\"400px\" />\n",
        "\n",
        "\n",
        "\n",
        "Now, let's work on Step 2 by converting the training and test data into their vector representation to be ready to be feed in RNNs.\n",
        "\n",
        "❓ **Question** ❓ Now, write a function that, given a sentence, returns a matrix that corresponds to the embedding of the full sentence, which means that you have to embed each word one after the other and concatenate the result to output a 2D matrix (be sure that your output is a NumPy array)\n",
        "\n",
        "❗ **Remark** ❗ You will probably notice that some words you are trying to convert throw errors as they are said not to belong to the dictionary:\n",
        "\n",
        "- for the test set, this is understandable: some words were not in the train set and thus their embedded representation is unknown\n",
        "- for the train set, due to `min_count` hyperparameter, not all the words have a vector representation\n",
        "\n",
        "In any case, just skip the missing words here."
      ]
    },
    {
      "cell_type": "code",
      "execution_count": null,
      "metadata": {
        "id": "5z-YZT69HEwc"
      },
      "outputs": [],
      "source": [
        "import numpy as np\n",
        "\n",
        "example = ['this', 'movie', 'is', 'the', 'worst', 'action', 'movie', 'ever']\n",
        "example_missing_words = ['this', 'movie', 'is', 'laaaaaaaaaame']\n",
        "\n",
        "def embed_sentence(word2vec, sentence):\n",
        "    embedded =[]\n",
        "    try:\n",
        "      for _ in sentence:\n",
        "        embedded.append(word2vec.wv.get_vector(_))\n",
        "    except Exception as e:\n",
        "      pass\n",
        "\n",
        "    return np.array(embedded)\n",
        "\n",
        "    \n",
        "### Checks\n",
        "embedded_sentence = embed_sentence(word2vec, example)\n",
        "assert(type(embedded_sentence) == np.ndarray)\n",
        "assert(embedded_sentence.shape == (8, 100))\n",
        "\n",
        "embedded_sentence_missing_words = embed_sentence(word2vec, example_missing_words)  \n",
        "assert(type(embedded_sentence_missing_words) == np.ndarray)\n",
        "assert(embedded_sentence_missing_words.shape == (3, 100))"
      ]
    },
    {
      "cell_type": "code",
      "source": [
        "embed_sentence(word2vec, example_missing_words).shape"
      ],
      "metadata": {
        "colab": {
          "base_uri": "https://localhost:8080/"
        },
        "id": "Y5jJNjVfWI4r",
        "outputId": "037d9db2-b3b1-4be4-a039-ea15f00e85c4"
      },
      "execution_count": null,
      "outputs": [
        {
          "output_type": "execute_result",
          "data": {
            "text/plain": [
              "(3, 100)"
            ]
          },
          "metadata": {},
          "execution_count": 82
        }
      ]
    },
    {
      "cell_type": "markdown",
      "metadata": {
        "id": "-S0IaNbOHEwd"
      },
      "source": [
        "❓ **Question** ❓ Write a function that, given a list of sentence (each sentence being a list of words/strings), returns a list of embedded sentences (each sentence is a matrix). Apply this function to the train and test sentences\n",
        "\n",
        "Hint: Use the previous function `embed_sentence`"
      ]
    },
    {
      "cell_type": "code",
      "execution_count": null,
      "metadata": {
        "id": "tQ10O7bAHEwd"
      },
      "outputs": [],
      "source": [
        "def embedding(word2vec, sentences):\n",
        "    pass  # YOUR CODE HERE\n",
        "    \n",
        "X_train = embedding(word2vec, X_train)\n",
        "X_test = embedding(word2vec, X_test)"
      ]
    },
    {
      "cell_type": "markdown",
      "metadata": {
        "id": "9AvXi5f5HEwd"
      },
      "source": [
        "❓ **Question** ❓ In order to have ready-to-use data, do not forget to pad them in order to have tensors that can be divided in batch sizes during the optimization. Store the padedd values in `X_train_pad` and `X_test_pad`. Do not forget the important arguments of the padding ;)"
      ]
    },
    {
      "cell_type": "code",
      "execution_count": null,
      "metadata": {
        "id": "9GIQJnXpHEwd"
      },
      "outputs": [],
      "source": [
        "### YOUR CODE HERE\n",
        "\n",
        "assert(len(X_train_pad.shape) == 3)\n",
        "assert(len(X_test_pad.shape) == 3)\n",
        "assert(X_train_pad.shape[2] == 100)\n",
        "assert(X_test_pad.shape[2] == 100)"
      ]
    }
  ],
  "metadata": {
    "kernelspec": {
      "display_name": "Python 3",
      "language": "python",
      "name": "python3"
    },
    "colab": {
      "name": "Understand-embeddings-with-word2vec.ipynb",
      "provenance": [],
      "collapsed_sections": [],
      "include_colab_link": true
    }
  },
  "nbformat": 4,
  "nbformat_minor": 0
}